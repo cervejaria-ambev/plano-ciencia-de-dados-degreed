{
  "nbformat": 4,
  "nbformat_minor": 0,
  "metadata": {
    "colab": {
      "name": "LinearAlgebra.ipynb",
      "provenance": []
    },
    "kernelspec": {
      "name": "python3",
      "display_name": "Python 3"
    },
    "language_info": {
      "name": "python"
    }
  },
  "cells": [
    {
      "cell_type": "markdown",
      "source": [
        "# Trilha prática de Álgebra Linear em Python\n",
        "\n",
        "Clique nos links para ver as explicações no YouTube e reproduza os exercícios nas células abaixo."
      ],
      "metadata": {
        "id": "b6z499bdlnz-"
      }
    },
    {
      "cell_type": "markdown",
      "source": [
        "## [1) Inner or Dot Product of Two n-vectors](https://www.youtube.com/watch?v=hDoGgBRHJsc&list=PLOQU3c_3DSpK4D0k3OLj3HLZ7LMhb9GvB&index=1)"
      ],
      "metadata": {
        "id": "bl593I-7bN1Q"
      }
    },
    {
      "cell_type": "code",
      "source": [
        "import numpy as np\n",
        "\n",
        "x = np.array([-10, 0, 10])\n",
        "p = np.array([0.1, 0.4, 0.5])"
      ],
      "metadata": {
        "id": "CT2EPlRva_Wg"
      },
      "execution_count": null,
      "outputs": []
    },
    {
      "cell_type": "code",
      "source": [
        "np.inner(x, p)"
      ],
      "metadata": {
        "colab": {
          "base_uri": "https://localhost:8080/"
        },
        "id": "6veOCHDJbMu4",
        "outputId": "d016aa88-e280-44bb-defb-7283f6330f33"
      },
      "execution_count": null,
      "outputs": [
        {
          "output_type": "execute_result",
          "data": {
            "text/plain": [
              "4.0"
            ]
          },
          "metadata": {},
          "execution_count": 4
        }
      ]
    },
    {
      "cell_type": "code",
      "source": [
        "x.transpose().dot(p)"
      ],
      "metadata": {
        "colab": {
          "base_uri": "https://localhost:8080/"
        },
        "id": "pJdGmg5fbrqR",
        "outputId": "c0a9ac31-c31b-484e-d444-ba2fda969de8"
      },
      "execution_count": null,
      "outputs": [
        {
          "output_type": "execute_result",
          "data": {
            "text/plain": [
              "4.0"
            ]
          },
          "metadata": {},
          "execution_count": 9
        }
      ]
    },
    {
      "cell_type": "code",
      "source": [
        "x @ p"
      ],
      "metadata": {
        "colab": {
          "base_uri": "https://localhost:8080/"
        },
        "id": "aULmZmHSbTdV",
        "outputId": "f1d3b7cd-9b98-4355-d73d-7b2974004fa0"
      },
      "execution_count": null,
      "outputs": [
        {
          "output_type": "execute_result",
          "data": {
            "text/plain": [
              "4.0"
            ]
          },
          "metadata": {},
          "execution_count": 5
        }
      ]
    },
    {
      "cell_type": "markdown",
      "source": [
        "## [2) Euclidean Norm of an n-vector](https://www.youtube.com/watch?v=b3jmal-YEJQ&list=PLOQU3c_3DSpK4D0k3OLj3HLZ7LMhb9GvB&index=2)"
      ],
      "metadata": {
        "id": "tkLHxj8NbyZP"
      }
    },
    {
      "cell_type": "code",
      "source": [
        "import numpy as np\n",
        "\n",
        "e = np.array([-3, 2, 1, -1, 1])"
      ],
      "metadata": {
        "id": "lemj3sKVbVO1"
      },
      "execution_count": null,
      "outputs": []
    },
    {
      "cell_type": "code",
      "source": [
        "np.linalg.norm(e)"
      ],
      "metadata": {
        "colab": {
          "base_uri": "https://localhost:8080/"
        },
        "id": "lwg66VP_baxN",
        "outputId": "7a8a2641-3657-4a38-929c-3d6f9ec5632e"
      },
      "execution_count": null,
      "outputs": [
        {
          "output_type": "execute_result",
          "data": {
            "text/plain": [
              "4.0"
            ]
          },
          "metadata": {},
          "execution_count": 12
        }
      ]
    },
    {
      "cell_type": "code",
      "source": [
        "np.linalg.norm(e) / np.sqrt(len(e))"
      ],
      "metadata": {
        "colab": {
          "base_uri": "https://localhost:8080/"
        },
        "id": "XAfkg7GYb_2W",
        "outputId": "218e4301-6609-4a79-83f6-c05561043c03"
      },
      "execution_count": null,
      "outputs": [
        {
          "output_type": "execute_result",
          "data": {
            "text/plain": [
              "1.7888543819998317"
            ]
          },
          "metadata": {},
          "execution_count": 13
        }
      ]
    },
    {
      "cell_type": "markdown",
      "source": [
        "### Distance"
      ],
      "metadata": {
        "id": "DjlQxJ6Jcbop"
      }
    },
    {
      "cell_type": "code",
      "source": [
        "u = np.array([0, 3])\n",
        "v = np.array([4, 0])"
      ],
      "metadata": {
        "id": "cKlt_B91cIhZ"
      },
      "execution_count": null,
      "outputs": []
    },
    {
      "cell_type": "code",
      "source": [
        "np.linalg.norm(u-v)"
      ],
      "metadata": {
        "colab": {
          "base_uri": "https://localhost:8080/"
        },
        "id": "7aZ3g4XucXGd",
        "outputId": "e01286c7-48e7-4eb8-f556-e36896f6dd2e"
      },
      "execution_count": null,
      "outputs": [
        {
          "output_type": "execute_result",
          "data": {
            "text/plain": [
              "5.0"
            ]
          },
          "metadata": {},
          "execution_count": 16
        }
      ]
    },
    {
      "cell_type": "markdown",
      "source": [
        "## [3) Linear Combination of a Set of Vectors](https://www.youtube.com/watch?v=KpV_RQwuEq8&list=PLOQU3c_3DSpK4D0k3OLj3HLZ7LMhb9GvB&index=3)"
      ],
      "metadata": {
        "id": "CCjUJuwtjC0c"
      }
    },
    {
      "cell_type": "code",
      "source": [
        "from sympy import *\n",
        "init_printing()"
      ],
      "metadata": {
        "id": "IYI8f_6qchir"
      },
      "execution_count": null,
      "outputs": []
    },
    {
      "cell_type": "code",
      "source": [
        "Matrix(2, 3, [1, -1, 2, 1, 2, 3]).rref()"
      ],
      "metadata": {
        "colab": {
          "base_uri": "https://localhost:8080/",
          "height": 58
        },
        "id": "L-3OalfIctFl",
        "outputId": "fe87ed65-84cd-46ab-958f-1ae2dea8102a"
      },
      "execution_count": null,
      "outputs": [
        {
          "output_type": "execute_result",
          "data": {
            "text/plain": [
              "⎛⎡1  0  7/3⎤        ⎞\n",
              "⎜⎢         ⎥, (0, 1)⎟\n",
              "⎝⎣0  1  1/3⎦        ⎠"
            ],
            "text/latex": "$\\displaystyle \\left( \\left[\\begin{matrix}1 & 0 & \\frac{7}{3}\\\\0 & 1 & \\frac{1}{3}\\end{matrix}\\right], \\  \\left( 0, \\  1\\right)\\right)$"
          },
          "metadata": {},
          "execution_count": 18
        }
      ]
    },
    {
      "cell_type": "markdown",
      "source": [
        "## [4) Linear Dependence vs Independence](https://www.youtube.com/watch?v=_U6gwFvk6Xc&list=PLOQU3c_3DSpK4D0k3OLj3HLZ7LMhb9GvB&index=4)"
      ],
      "metadata": {
        "id": "yxDmjhkDjOrK"
      }
    },
    {
      "cell_type": "code",
      "source": [
        ""
      ],
      "metadata": {
        "id": "goZgUPCAmFOD"
      },
      "execution_count": null,
      "outputs": []
    },
    {
      "cell_type": "markdown",
      "source": [
        "## [5) Linear Independence: Determinant and Inverse](https://www.youtube.com/watch?v=-kTeD4Q82Bk&list=PLOQU3c_3DSpK4D0k3OLj3HLZ7LMhb9GvB&index=5)"
      ],
      "metadata": {
        "id": "39Iw7xt6jVcF"
      }
    },
    {
      "cell_type": "code",
      "source": [
        "from sympy import *\n",
        "init_printing()\n",
        "\n",
        "I = Matrix(3,3, [1,0,4, -1,2,0, 4,-3,-3])\n",
        "I"
      ],
      "metadata": {
        "colab": {
          "base_uri": "https://localhost:8080/",
          "height": 78
        },
        "id": "bnW7mXa1cyve",
        "outputId": "a7d0e609-6992-4a62-c649-e8efafce26d9"
      },
      "execution_count": null,
      "outputs": [
        {
          "output_type": "execute_result",
          "data": {
            "text/plain": [
              "⎡1   0   4 ⎤\n",
              "⎢          ⎥\n",
              "⎢-1  2   0 ⎥\n",
              "⎢          ⎥\n",
              "⎣4   -3  -3⎦"
            ],
            "text/latex": "$\\displaystyle \\left[\\begin{matrix}1 & 0 & 4\\\\-1 & 2 & 0\\\\4 & -3 & -3\\end{matrix}\\right]$"
          },
          "metadata": {},
          "execution_count": 58
        }
      ]
    },
    {
      "cell_type": "code",
      "source": [
        "I.det()"
      ],
      "metadata": {
        "colab": {
          "base_uri": "https://localhost:8080/",
          "height": 37
        },
        "id": "SoduOeq6ddvS",
        "outputId": "cc96b1ab-4b6e-4e83-d694-71b78291d2ea"
      },
      "execution_count": null,
      "outputs": [
        {
          "output_type": "execute_result",
          "data": {
            "text/plain": [
              "-26"
            ],
            "image/png": "[encoded data removed]",
            "text/latex": "$\\displaystyle -26$"
          },
          "metadata": {},
          "execution_count": 20
        }
      ]
    },
    {
      "cell_type": "code",
      "source": [
        "I.inv()"
      ],
      "metadata": {
        "colab": {
          "base_uri": "https://localhost:8080/",
          "height": 78
        },
        "id": "_n-xh5ARdhUG",
        "outputId": "5f8bcc17-3446-46e6-8dca-a5869a7647dd"
      },
      "execution_count": null,
      "outputs": [
        {
          "output_type": "execute_result",
          "data": {
            "text/plain": [
              "⎡3/13  6/13   4/13 ⎤\n",
              "⎢                  ⎥\n",
              "⎢       19         ⎥\n",
              "⎢3/26   ──    2/13 ⎥\n",
              "⎢       26         ⎥\n",
              "⎢                  ⎥\n",
              "⎣5/26  -3/26  -1/13⎦"
            ],
            "text/latex": "$\\displaystyle \\left[\\begin{matrix}\\frac{3}{13} & \\frac{6}{13} & \\frac{4}{13}\\\\\\frac{3}{26} & \\frac{19}{26} & \\frac{2}{13}\\\\\\frac{5}{26} & - \\frac{3}{26} & - \\frac{1}{13}\\end{matrix}\\right]$"
          },
          "metadata": {},
          "execution_count": 21
        }
      ]
    },
    {
      "cell_type": "markdown",
      "source": [
        "## [6) Python: Reduced Row Echelon Form](https://www.youtube.com/watch?v=47H3h7ssa6M&list=PLOQU3c_3DSpK4D0k3OLj3HLZ7LMhb9GvB&index=6)"
      ],
      "metadata": {
        "id": "iTLhOg3ddwo4"
      }
    },
    {
      "cell_type": "code",
      "source": [
        "from sympy import *\n",
        "init_printing()\n",
        "\n",
        "aug_X = Matrix([[1,3,5,-1], [2,2,-1,1], [1,3,2,2]])\n",
        "aug_X"
      ],
      "metadata": {
        "colab": {
          "base_uri": "https://localhost:8080/",
          "height": 78
        },
        "id": "VZz5ui3GdkzG",
        "outputId": "9809a32c-886e-4a8c-8925-693ac0e93f2f"
      },
      "execution_count": null,
      "outputs": [
        {
          "output_type": "execute_result",
          "data": {
            "text/plain": [
              "⎡1  3  5   -1⎤\n",
              "⎢            ⎥\n",
              "⎢2  2  -1  1 ⎥\n",
              "⎢            ⎥\n",
              "⎣1  3  2   2 ⎦"
            ],
            "text/latex": "$\\displaystyle \\left[\\begin{matrix}1 & 3 & 5 & -1\\\\2 & 2 & -1 & 1\\\\1 & 3 & 2 & 2\\end{matrix}\\right]$"
          },
          "metadata": {},
          "execution_count": 60
        }
      ]
    },
    {
      "cell_type": "code",
      "source": [
        "aug_X.rref()"
      ],
      "metadata": {
        "colab": {
          "base_uri": "https://localhost:8080/",
          "height": 78
        },
        "id": "NR78rnYdd_KV",
        "outputId": "30336cf7-0c55-4c92-838e-f1c90a4e0a0e"
      },
      "execution_count": null,
      "outputs": [
        {
          "output_type": "execute_result",
          "data": {
            "text/plain": [
              "⎛⎡1  0  0  -2⎤           ⎞\n",
              "⎜⎢           ⎥           ⎟\n",
              "⎜⎢0  1  0  2 ⎥, (0, 1, 2)⎟\n",
              "⎜⎢           ⎥           ⎟\n",
              "⎝⎣0  0  1  -1⎦           ⎠"
            ],
            "text/latex": "$\\displaystyle \\left( \\left[\\begin{matrix}1 & 0 & 0 & -2\\\\0 & 1 & 0 & 2\\\\0 & 0 & 1 & -1\\end{matrix}\\right], \\  \\left( 0, \\  1, \\  2\\right)\\right)$"
          },
          "metadata": {},
          "execution_count": 24
        }
      ]
    },
    {
      "cell_type": "markdown",
      "source": [
        "## [7) Matrix Inverse in Python](https://www.youtube.com/watch?v=mrXcNVB0l1Y&list=PLOQU3c_3DSpK4D0k3OLj3HLZ7LMhb9GvB&index=7)"
      ],
      "metadata": {
        "id": "yDwC4wCeeQw9"
      }
    },
    {
      "cell_type": "code",
      "source": [
        "import numpy as np\n",
        "\n",
        "A = np.array([[1,2,1], [4,4,5], [6,7,7]])\n",
        "A"
      ],
      "metadata": {
        "colab": {
          "base_uri": "https://localhost:8080/"
        },
        "id": "W5QfIHUOeFjV",
        "outputId": "3c809de9-93fb-4bbc-d6cd-c986339f99dc"
      },
      "execution_count": null,
      "outputs": [
        {
          "output_type": "execute_result",
          "data": {
            "text/plain": [
              "array([[1, 2, 1],\n",
              "       [4, 4, 5],\n",
              "       [6, 7, 7]])"
            ]
          },
          "metadata": {},
          "execution_count": 25
        }
      ]
    },
    {
      "cell_type": "code",
      "source": [
        "inverse = np.linalg.inv(A)\n",
        "inverse"
      ],
      "metadata": {
        "colab": {
          "base_uri": "https://localhost:8080/"
        },
        "id": "D7pB7_k3eY_P",
        "outputId": "174f5d99-0465-4e8e-8505-18d98e9c9899"
      },
      "execution_count": null,
      "outputs": [
        {
          "output_type": "execute_result",
          "data": {
            "text/plain": [
              "array([[-7., -7.,  6.],\n",
              "       [ 2.,  1., -1.],\n",
              "       [ 4.,  5., -4.]])"
            ]
          },
          "metadata": {},
          "execution_count": 26
        }
      ]
    },
    {
      "cell_type": "code",
      "source": [
        "np.round(inverse @ A)"
      ],
      "metadata": {
        "colab": {
          "base_uri": "https://localhost:8080/"
        },
        "id": "zhOATy1GeeMF",
        "outputId": "260f101b-2615-4222-bdc2-c06124b2f51b"
      },
      "execution_count": null,
      "outputs": [
        {
          "output_type": "execute_result",
          "data": {
            "text/plain": [
              "array([[ 1.,  0.,  0.],\n",
              "       [ 0.,  1., -0.],\n",
              "       [ 0., -0.,  1.]])"
            ]
          },
          "metadata": {},
          "execution_count": 27
        }
      ]
    },
    {
      "cell_type": "code",
      "source": [
        "np.round(A @ inverse)"
      ],
      "metadata": {
        "colab": {
          "base_uri": "https://localhost:8080/"
        },
        "id": "iWx5K9gteiX1",
        "outputId": "0101c1f3-a6fa-4071-bcc3-fbf715ddb71d"
      },
      "execution_count": null,
      "outputs": [
        {
          "output_type": "execute_result",
          "data": {
            "text/plain": [
              "array([[ 1., -0.,  0.],\n",
              "       [-0.,  1.,  0.],\n",
              "       [ 0., -0.,  1.]])"
            ]
          },
          "metadata": {},
          "execution_count": 28
        }
      ]
    },
    {
      "cell_type": "markdown",
      "source": [
        "## [8) Determinant and Inverse Matrix in Sympy](https://www.youtube.com/watch?v=Gdpm7WBJLSg&list=PLOQU3c_3DSpK4D0k3OLj3HLZ7LMhb9GvB&index=8)"
      ],
      "metadata": {
        "id": "0S9eR0enkKvo"
      }
    },
    {
      "cell_type": "code",
      "source": [
        "from sympy import *\n",
        "init_printing()\n",
        "\n",
        "a, b, c, d = symbols('a, b, c, d')\n",
        "A = Matrix([[a,b], [c,d]])\n",
        "A"
      ],
      "metadata": {
        "colab": {
          "base_uri": "https://localhost:8080/",
          "height": 58
        },
        "id": "ZR05OwdukOd4",
        "outputId": "be88260c-52ac-43f1-ae73-fd9fed181da7"
      },
      "execution_count": null,
      "outputs": [
        {
          "output_type": "execute_result",
          "data": {
            "text/plain": [
              "⎡a  b⎤\n",
              "⎢    ⎥\n",
              "⎣c  d⎦"
            ],
            "text/latex": "$\\displaystyle \\left[\\begin{matrix}a & b\\\\c & d\\end{matrix}\\right]$"
          },
          "metadata": {},
          "execution_count": 61
        }
      ]
    },
    {
      "cell_type": "code",
      "source": [
        "A.det()"
      ],
      "metadata": {
        "colab": {
          "base_uri": "https://localhost:8080/",
          "height": 38
        },
        "id": "y-eWhJlLkbfz",
        "outputId": "50190cd2-cf2f-47e3-fe40-2da2662bb8fd"
      },
      "execution_count": null,
      "outputs": [
        {
          "output_type": "execute_result",
          "data": {
            "text/plain": [
              "a⋅d - b⋅c"
            ],
            "image/png": "[encoded data removed]",
            "text/latex": "$\\displaystyle a d - b c$"
          },
          "metadata": {},
          "execution_count": 54
        }
      ]
    },
    {
      "cell_type": "code",
      "source": [
        "A.inv()"
      ],
      "metadata": {
        "colab": {
          "base_uri": "https://localhost:8080/",
          "height": 60
        },
        "id": "Rhr8IdAMkdUg",
        "outputId": "7ba8a832-b74a-4c2f-9bad-a821ac65997f"
      },
      "execution_count": null,
      "outputs": [
        {
          "output_type": "execute_result",
          "data": {
            "text/plain": [
              "⎡    d         -b    ⎤\n",
              "⎢─────────  ─────────⎥\n",
              "⎢a⋅d - b⋅c  a⋅d - b⋅c⎥\n",
              "⎢                    ⎥\n",
              "⎢   -c          a    ⎥\n",
              "⎢─────────  ─────────⎥\n",
              "⎣a⋅d - b⋅c  a⋅d - b⋅c⎦"
            ],
            "text/latex": "$\\displaystyle \\left[\\begin{matrix}\\frac{d}{a d - b c} & - \\frac{b}{a d - b c}\\\\- \\frac{c}{a d - b c} & \\frac{a}{a d - b c}\\end{matrix}\\right]$"
          },
          "metadata": {},
          "execution_count": 55
        }
      ]
    },
    {
      "cell_type": "markdown",
      "source": [
        "## [9) Eigenvalue and Eivenvector in Synpy](https://www.youtube.com/watch?v=MqBoJlgKEuI&list=PLOQU3c_3DSpK4D0k3OLj3HLZ7LMhb9GvB&index=10)"
      ],
      "metadata": {
        "id": "93dAcYMDep_s"
      }
    },
    {
      "cell_type": "code",
      "source": [
        "from sympy import *\n",
        "init_printing()\n",
        "\n",
        "A = Matrix([[-1,3], [2,0]])\n",
        "A"
      ],
      "metadata": {
        "colab": {
          "base_uri": "https://localhost:8080/",
          "height": 58
        },
        "id": "u-OVh5M3enE8",
        "outputId": "683ebd33-9cc9-4cf3-aad0-d0f626a904a1"
      },
      "execution_count": null,
      "outputs": [
        {
          "output_type": "execute_result",
          "data": {
            "text/plain": [
              "⎡-1  3⎤\n",
              "⎢     ⎥\n",
              "⎣2   0⎦"
            ],
            "text/latex": "$\\displaystyle \\left[\\begin{matrix}-1 & 3\\\\2 & 0\\end{matrix}\\right]$"
          },
          "metadata": {},
          "execution_count": 62
        }
      ]
    },
    {
      "cell_type": "code",
      "source": [
        "A.eigenvects()"
      ],
      "metadata": {
        "colab": {
          "base_uri": "https://localhost:8080/",
          "height": 58
        },
        "id": "dH-6IciffY1U",
        "outputId": "7fbf7d3f-1f39-4f80-848f-d6fd6d7c16cc"
      },
      "execution_count": null,
      "outputs": [
        {
          "output_type": "execute_result",
          "data": {
            "text/plain": [
              "⎡⎛       ⎡⎡-3/2⎤⎤⎞  ⎛      ⎡⎡1⎤⎤⎞⎤\n",
              "⎢⎜-3, 1, ⎢⎢    ⎥⎥⎟, ⎜2, 1, ⎢⎢ ⎥⎥⎟⎥\n",
              "⎣⎝       ⎣⎣ 1  ⎦⎦⎠  ⎝      ⎣⎣1⎦⎦⎠⎦"
            ],
            "text/latex": "$\\displaystyle \\left[ \\left( -3, \\  1, \\  \\left[ \\left[\\begin{matrix}- \\frac{3}{2}\\\\1\\end{matrix}\\right]\\right]\\right), \\  \\left( 2, \\  1, \\  \\left[ \\left[\\begin{matrix}1\\\\1\\end{matrix}\\right]\\right]\\right)\\right]$"
          },
          "metadata": {},
          "execution_count": 31
        }
      ]
    },
    {
      "cell_type": "markdown",
      "source": [
        "## [10) Eigenvalue and Eigenvector in Sympy](https://www.youtube.com/watch?v=MqBoJlgKEuI&list=PLOQU3c_3DSpK4D0k3OLj3HLZ7LMhb9GvB&index=10)"
      ],
      "metadata": {
        "id": "Ktj-XFmKkmlE"
      }
    },
    {
      "cell_type": "code",
      "source": [
        "from sympy import *\n",
        "init_printing()\n",
        "\n",
        "A = Matrix([[-1,3], [2,0]])\n",
        "A"
      ],
      "metadata": {
        "colab": {
          "base_uri": "https://localhost:8080/",
          "height": 58
        },
        "id": "SyOY6j3Jkt68",
        "outputId": "81e3b310-5b5b-4b24-e177-83ecc36c89ea"
      },
      "execution_count": null,
      "outputs": [
        {
          "output_type": "execute_result",
          "data": {
            "text/plain": [
              "⎡-1  3⎤\n",
              "⎢     ⎥\n",
              "⎣2   0⎦"
            ],
            "text/latex": "$\\displaystyle \\left[\\begin{matrix}-1 & 3\\\\2 & 0\\end{matrix}\\right]$"
          },
          "metadata": {},
          "execution_count": 63
        }
      ]
    },
    {
      "cell_type": "code",
      "source": [
        "A.eigenvects()"
      ],
      "metadata": {
        "colab": {
          "base_uri": "https://localhost:8080/",
          "height": 58
        },
        "id": "jil3ABZLk6yS",
        "outputId": "b6c4485b-e760-40ab-c5a1-4e3a401c387a"
      },
      "execution_count": null,
      "outputs": [
        {
          "output_type": "execute_result",
          "data": {
            "text/plain": [
              "⎡⎛       ⎡⎡-3/2⎤⎤⎞  ⎛      ⎡⎡1⎤⎤⎞⎤\n",
              "⎢⎜-3, 1, ⎢⎢    ⎥⎥⎟, ⎜2, 1, ⎢⎢ ⎥⎥⎟⎥\n",
              "⎣⎝       ⎣⎣ 1  ⎦⎦⎠  ⎝      ⎣⎣1⎦⎦⎠⎦"
            ],
            "text/latex": "$\\displaystyle \\left[ \\left( -3, \\  1, \\  \\left[ \\left[\\begin{matrix}- \\frac{3}{2}\\\\1\\end{matrix}\\right]\\right]\\right), \\  \\left( 2, \\  1, \\  \\left[ \\left[\\begin{matrix}1\\\\1\\end{matrix}\\right]\\right]\\right)\\right]$"
          },
          "metadata": {},
          "execution_count": 57
        }
      ]
    },
    {
      "cell_type": "markdown",
      "source": [
        "## [11) Standard Basis Vectors](https://www.youtube.com/watch?v=zLoz3tYoDK0&list=PLOQU3c_3DSpK4D0k3OLj3HLZ7LMhb9GvB&index=11)"
      ],
      "metadata": {
        "id": "Q4g2DymKkmZ1"
      }
    },
    {
      "cell_type": "code",
      "source": [
        ""
      ],
      "metadata": {
        "id": "B4-oD7sWmHDS"
      },
      "execution_count": null,
      "outputs": []
    },
    {
      "cell_type": "markdown",
      "source": [
        "## [12) Matrix Transformation](https://www.youtube.com/watch?v=sRvfTly2c08&list=PLOQU3c_3DSpK4D0k3OLj3HLZ7LMhb9GvB&index=12)"
      ],
      "metadata": {
        "id": "iS_KJkKolOsb"
      }
    },
    {
      "cell_type": "code",
      "source": [
        ""
      ],
      "metadata": {
        "id": "a9zH8gYTmHg2"
      },
      "execution_count": null,
      "outputs": []
    },
    {
      "cell_type": "markdown",
      "source": [
        "## [13) Normalized and Unit Vector in Python](https://www.youtube.com/watch?v=UN3ytcnDZa4&list=PLOQU3c_3DSpK4D0k3OLj3HLZ7LMhb9GvB&index=13)"
      ],
      "metadata": {
        "id": "SEmE5zi_gFed"
      }
    },
    {
      "cell_type": "code",
      "source": [
        "from sympy import *\n",
        "init_printing()\n",
        "\n",
        "v = Matrix([[2,2, -1]])\n",
        "v"
      ],
      "metadata": {
        "colab": {
          "base_uri": "https://localhost:8080/",
          "height": 38
        },
        "id": "lnhRASbiffvW",
        "outputId": "928beed6-bc0e-40dd-d2a2-bed24404bf59"
      },
      "execution_count": null,
      "outputs": [
        {
          "output_type": "execute_result",
          "data": {
            "text/plain": [
              "[2  2  -1]"
            ],
            "text/latex": "$\\displaystyle \\left[\\begin{matrix}2 & 2 & -1\\end{matrix}\\right]$"
          },
          "metadata": {},
          "execution_count": 64
        }
      ]
    },
    {
      "cell_type": "code",
      "source": [
        "v.norm()"
      ],
      "metadata": {
        "colab": {
          "base_uri": "https://localhost:8080/",
          "height": 37
        },
        "id": "JGFu-zi7gNFN",
        "outputId": "ed7de2de-f206-498e-9b81-bf148cf07fdd"
      },
      "execution_count": null,
      "outputs": [
        {
          "output_type": "execute_result",
          "data": {
            "text/plain": [
              "3"
            ],
            "image/png": "[encoded data removed]",
            "text/latex": "$\\displaystyle 3$"
          },
          "metadata": {},
          "execution_count": 33
        }
      ]
    },
    {
      "cell_type": "code",
      "source": [
        "u = v.normalized()\n",
        "u"
      ],
      "metadata": {
        "colab": {
          "base_uri": "https://localhost:8080/",
          "height": 38
        },
        "id": "kSDVhvV7gOMl",
        "outputId": "bf7fffae-8746-4f18-84a4-442c6be153d9"
      },
      "execution_count": null,
      "outputs": [
        {
          "output_type": "execute_result",
          "data": {
            "text/plain": [
              "[2/3  2/3  -1/3]"
            ],
            "text/latex": "$\\displaystyle \\left[\\begin{matrix}\\frac{2}{3} & \\frac{2}{3} & - \\frac{1}{3}\\end{matrix}\\right]$"
          },
          "metadata": {},
          "execution_count": 34
        }
      ]
    },
    {
      "cell_type": "code",
      "source": [
        "v / v.norm()"
      ],
      "metadata": {
        "colab": {
          "base_uri": "https://localhost:8080/",
          "height": 38
        },
        "id": "S4b8BAkYgYvN",
        "outputId": "9742de6a-5519-446f-f777-ca8c9360c38e"
      },
      "execution_count": null,
      "outputs": [
        {
          "output_type": "execute_result",
          "data": {
            "text/plain": [
              "[2/3  2/3  -1/3]"
            ],
            "text/latex": "$\\displaystyle \\left[\\begin{matrix}\\frac{2}{3} & \\frac{2}{3} & - \\frac{1}{3}\\end{matrix}\\right]$"
          },
          "metadata": {},
          "execution_count": 36
        }
      ]
    },
    {
      "cell_type": "code",
      "source": [
        "u.norm()"
      ],
      "metadata": {
        "colab": {
          "base_uri": "https://localhost:8080/",
          "height": 37
        },
        "id": "YmNAEVZegS51",
        "outputId": "4bfbca4e-3d74-4b87-8518-09fc6c54d4e1"
      },
      "execution_count": null,
      "outputs": [
        {
          "output_type": "execute_result",
          "data": {
            "text/plain": [
              "1"
            ],
            "image/png": "[encoded data removed]",
            "text/latex": "$\\displaystyle 1$"
          },
          "metadata": {},
          "execution_count": 35
        }
      ]
    },
    {
      "cell_type": "markdown",
      "source": [
        "## [14) Formula to Calculate the Angle between Two Vectors](https://www.youtube.com/watch?v=9cF3Nougasg&list=PLOQU3c_3DSpK4D0k3OLj3HLZ7LMhb9GvB&index=14)"
      ],
      "metadata": {
        "id": "Ulw1-d_dghNJ"
      }
    },
    {
      "cell_type": "code",
      "source": [
        ""
      ],
      "metadata": {
        "id": "RwHLQHtshGwy"
      },
      "execution_count": null,
      "outputs": []
    },
    {
      "cell_type": "markdown",
      "source": [
        "## [15) Correlation as the Cosine of the Angle between Two Vectors](https://www.youtube.com/watch?v=PmsqpbOAMvo&list=PLOQU3c_3DSpK4D0k3OLj3HLZ7LMhb9GvB&index=15)"
      ],
      "metadata": {
        "id": "_UT0y6BTguu1"
      }
    },
    {
      "cell_type": "code",
      "source": [
        ""
      ],
      "metadata": {
        "id": "D5kHUMbWhHL_"
      },
      "execution_count": null,
      "outputs": []
    },
    {
      "cell_type": "markdown",
      "source": [
        "## [16) Orthogonal Projection: Formula Derivation](https://www.youtube.com/watch?v=S8hAmBAbGWQ&list=PLOQU3c_3DSpK4D0k3OLj3HLZ7LMhb9GvB&index=16)"
      ],
      "metadata": {
        "id": "efwA7au6g8Y1"
      }
    },
    {
      "cell_type": "code",
      "source": [
        ""
      ],
      "metadata": {
        "id": "Dq0BvL2ugUCO"
      },
      "execution_count": null,
      "outputs": []
    },
    {
      "cell_type": "markdown",
      "source": [
        "## [17) Cross Product in Python](https://www.youtube.com/watch?v=tZu91n2cM0A&list=PLOQU3c_3DSpK4D0k3OLj3HLZ7LMhb9GvB&index=17)"
      ],
      "metadata": {
        "id": "7PE78iN6hMS-"
      }
    },
    {
      "cell_type": "code",
      "source": [
        "from sympy import *\n",
        "init_printing()\n",
        "\n",
        "u = Matrix([[1,2,-2]])\n",
        "v = Matrix([[3,0,1]])"
      ],
      "metadata": {
        "id": "W8MP_MyehURd"
      },
      "execution_count": null,
      "outputs": []
    },
    {
      "cell_type": "code",
      "source": [
        "u"
      ],
      "metadata": {
        "colab": {
          "base_uri": "https://localhost:8080/",
          "height": 38
        },
        "id": "S9fYrIbqha-H",
        "outputId": "a78d3002-75cb-4429-d3ee-3c461c851774"
      },
      "execution_count": null,
      "outputs": [
        {
          "output_type": "execute_result",
          "data": {
            "text/plain": [
              "[1  2  -2]"
            ],
            "text/latex": "$\\displaystyle \\left[\\begin{matrix}1 & 2 & -2\\end{matrix}\\right]$"
          },
          "metadata": {},
          "execution_count": 38
        }
      ]
    },
    {
      "cell_type": "code",
      "source": [
        "v"
      ],
      "metadata": {
        "colab": {
          "base_uri": "https://localhost:8080/",
          "height": 38
        },
        "id": "h1bcqEVhhben",
        "outputId": "450122e2-6519-41c3-f8cb-48f4c1e9a2b8"
      },
      "execution_count": null,
      "outputs": [
        {
          "output_type": "execute_result",
          "data": {
            "text/plain": [
              "[3  0  1]"
            ],
            "text/latex": "$\\displaystyle \\left[\\begin{matrix}3 & 0 & 1\\end{matrix}\\right]$"
          },
          "metadata": {},
          "execution_count": 39
        }
      ]
    },
    {
      "cell_type": "code",
      "source": [
        "u.cross(v)"
      ],
      "metadata": {
        "colab": {
          "base_uri": "https://localhost:8080/",
          "height": 38
        },
        "id": "PG0VqOBshbyF",
        "outputId": "4a9ddb29-16be-4675-fea9-50cfd5ff84ee"
      },
      "execution_count": null,
      "outputs": [
        {
          "output_type": "execute_result",
          "data": {
            "text/plain": [
              "[2  -7  -6]"
            ],
            "text/latex": "$\\displaystyle \\left[\\begin{matrix}2 & -7 & -6\\end{matrix}\\right]$"
          },
          "metadata": {},
          "execution_count": 40
        }
      ]
    },
    {
      "cell_type": "code",
      "source": [
        "from sympy.abc import a, b, c, d, e, f\n",
        "\n",
        "x = Matrix([[a,b,c]])\n",
        "x"
      ],
      "metadata": {
        "colab": {
          "base_uri": "https://localhost:8080/",
          "height": 38
        },
        "id": "trjtdVszheKX",
        "outputId": "06ad3f3f-273a-462e-b18f-51509f31ef02"
      },
      "execution_count": null,
      "outputs": [
        {
          "output_type": "execute_result",
          "data": {
            "text/plain": [
              "[a  b  c]"
            ],
            "text/latex": "$\\displaystyle \\left[\\begin{matrix}a & b & c\\end{matrix}\\right]$"
          },
          "metadata": {},
          "execution_count": 66
        }
      ]
    },
    {
      "cell_type": "code",
      "source": [
        "y = Matrix([[d,e,f]])\n",
        "y"
      ],
      "metadata": {
        "colab": {
          "base_uri": "https://localhost:8080/",
          "height": 38
        },
        "id": "pOIdHfi6hqZe",
        "outputId": "e067efa7-310b-460d-8833-468fab9affda"
      },
      "execution_count": null,
      "outputs": [
        {
          "output_type": "execute_result",
          "data": {
            "text/plain": [
              "[d  e  f]"
            ],
            "text/latex": "$\\displaystyle \\left[\\begin{matrix}d & e & f\\end{matrix}\\right]$"
          },
          "metadata": {},
          "execution_count": 44
        }
      ]
    },
    {
      "cell_type": "code",
      "source": [
        "x.cross(y)"
      ],
      "metadata": {
        "colab": {
          "base_uri": "https://localhost:8080/",
          "height": 38
        },
        "id": "yHgg6Ii5htYe",
        "outputId": "e86469d8-56ad-41f1-be90-b49d15e00339"
      },
      "execution_count": null,
      "outputs": [
        {
          "output_type": "execute_result",
          "data": {
            "text/plain": [
              "[b⋅f - c⋅e  -a⋅f + c⋅d  a⋅e - b⋅d]"
            ],
            "text/latex": "$\\displaystyle \\left[\\begin{matrix}b f - c e & - a f + c d & a e - b d\\end{matrix}\\right]$"
          },
          "metadata": {},
          "execution_count": 45
        }
      ]
    },
    {
      "cell_type": "markdown",
      "source": [
        "## [18) Eigenvalue, Trace, and Determinant](https://www.youtube.com/watch?v=fqNk2XNZVhg&list=PLOQU3c_3DSpK4D0k3OLj3HLZ7LMhb9GvB&index=18)"
      ],
      "metadata": {
        "id": "WD3uiOEWh3OK"
      }
    },
    {
      "cell_type": "code",
      "source": [
        ""
      ],
      "metadata": {
        "id": "gDNPMU_Nhx9A"
      },
      "execution_count": null,
      "outputs": []
    },
    {
      "cell_type": "markdown",
      "source": [
        "## [19) Python: Eigenvalue, Trace, and Determinant](https://www.youtube.com/watch?v=5gWQGb-XQ48&list=PLOQU3c_3DSpK4D0k3OLj3HLZ7LMhb9GvB&index=19)"
      ],
      "metadata": {
        "id": "Lcs_f2KTiNQi"
      }
    },
    {
      "cell_type": "code",
      "source": [
        "from sympy import *\n",
        "init_printing()\n",
        "\n",
        "A = Matrix([[4, 2], [1,3]])\n",
        "A"
      ],
      "metadata": {
        "colab": {
          "base_uri": "https://localhost:8080/",
          "height": 58
        },
        "id": "tfslep_wiXzt",
        "outputId": "59485994-696c-4765-f600-8ce739622151"
      },
      "execution_count": null,
      "outputs": [
        {
          "output_type": "execute_result",
          "data": {
            "text/plain": [
              "⎡4  2⎤\n",
              "⎢    ⎥\n",
              "⎣1  3⎦"
            ],
            "text/latex": "$\\displaystyle \\left[\\begin{matrix}4 & 2\\\\1 & 3\\end{matrix}\\right]$"
          },
          "metadata": {},
          "execution_count": 67
        }
      ]
    },
    {
      "cell_type": "code",
      "source": [
        "A.eigenvals()"
      ],
      "metadata": {
        "colab": {
          "base_uri": "https://localhost:8080/",
          "height": 37
        },
        "id": "031ol5S2idbX",
        "outputId": "88f3e8e4-cc46-4ab7-eb4e-5befd9798ee4"
      },
      "execution_count": null,
      "outputs": [
        {
          "output_type": "execute_result",
          "data": {
            "text/plain": [
              "{2: 1, 5: 1}"
            ],
            "image/png": "[encoded data removed]",
            "text/latex": "$\\displaystyle \\left\\{ 2 : 1, \\  5 : 1\\right\\}$"
          },
          "metadata": {},
          "execution_count": 48
        }
      ]
    },
    {
      "cell_type": "code",
      "source": [
        "A.trace()"
      ],
      "metadata": {
        "colab": {
          "base_uri": "https://localhost:8080/",
          "height": 37
        },
        "id": "Hz2DDWEaihGM",
        "outputId": "8a05e92d-c50a-485c-946e-843d5f9116de"
      },
      "execution_count": null,
      "outputs": [
        {
          "output_type": "execute_result",
          "data": {
            "text/plain": [
              "7"
            ],
            "image/png": "[encoded data removed]",
            "text/latex": "$\\displaystyle 7$"
          },
          "metadata": {},
          "execution_count": 49
        }
      ]
    },
    {
      "cell_type": "code",
      "source": [
        "A.det()"
      ],
      "metadata": {
        "colab": {
          "base_uri": "https://localhost:8080/",
          "height": 37
        },
        "id": "MKq3W0_ziiUN",
        "outputId": "7d535edf-6adb-4159-c4ca-8b44fb675aef"
      },
      "execution_count": null,
      "outputs": [
        {
          "output_type": "execute_result",
          "data": {
            "text/plain": [
              "10"
            ],
            "image/png": "[encoded data removed]",
            "text/latex": "$\\displaystyle 10$"
          },
          "metadata": {},
          "execution_count": 50
        }
      ]
    }
  ]
}